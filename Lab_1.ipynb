{
  "nbformat": 4,
  "nbformat_minor": 0,
  "metadata": {
    "colab": {
      "provenance": [],
      "private_outputs": true,
      "authorship_tag": "ABX9TyOGTGpsrhH8wTgGOxBrmSGu",
      "include_colab_link": true
    },
    "kernelspec": {
      "name": "python3",
      "display_name": "Python 3"
    },
    "language_info": {
      "name": "python"
    }
  },
  "cells": [
    {
      "cell_type": "markdown",
      "metadata": {
        "id": "view-in-github",
        "colab_type": "text"
      },
      "source": [
        "<a href=\"https://colab.research.google.com/github/dellacortelab/python_tutorials/blob/main/Lab_1.ipynb\" target=\"_parent\"><img src=\"https://colab.research.google.com/assets/colab-badge.svg\" alt=\"Open In Colab\"/></a>"
      ]
    },
    {
      "cell_type": "code",
      "source": [
        "# prompt: I want to embed a youtube video\n",
        "\n",
        "from IPython.display import HTML\n",
        "\n",
        "HTML(\"\"\"\n",
        "<iframe width=\"560\" height=\"315\" src=\"https://www.youtube.com/embed/d1NK83vve6c\" frameborder=\"0\" allow=\"accelerometer; autoplay; clipboard-write; encrypted-media; gyroscope; picture-in-picture\" allowfullscreen></iframe>\n",
        "\"\"\")\n"
      ],
      "metadata": {
        "id": "TWkhL2PhkwQR"
      },
      "execution_count": null,
      "outputs": []
    },
    {
      "cell_type": "code",
      "source": [
        "!pip install pygame\n"
      ],
      "metadata": {
        "id": "AwwbqpBXlA_q"
      },
      "execution_count": null,
      "outputs": []
    },
    {
      "cell_type": "code",
      "source": [
        "import os\n",
        "os.environ[\"SDL_VIDEODRIVER\"] = \"dummy\"\n",
        "import pygame\n",
        "from google.colab.patches import cv2_imshow\n",
        "from google.colab import output"
      ],
      "metadata": {
        "id": "zZITRZn7lBLG"
      },
      "execution_count": null,
      "outputs": []
    },
    {
      "cell_type": "code",
      "source": [
        "pip install SimpleGUICS2Pygame"
      ],
      "metadata": {
        "id": "EP3UGCxflBWo"
      },
      "execution_count": null,
      "outputs": []
    },
    {
      "cell_type": "code",
      "source": [
        "try:\n",
        "    import simplegui\n",
        "except ImportError:\n",
        "    import SimpleGUICS2Pygame.simpleguics2pygame as simplegui\n",
        "\n",
        "# CodeSkulptor runs Python programs in your browser.\n",
        "# Click the upper left button to run this simple demo.\n",
        "\n",
        "# CodeSkulptor is tested to run in recent versions of\n",
        "# Chrome, Firefox, Safari, and Edge.\n",
        "\n",
        "\n",
        "message = \"Welcome!\"\n",
        "\n",
        "# Handler for mouse click\n",
        "def click():\n",
        "    global message\n",
        "    message = \"Good job!\"\n",
        "\n",
        "# Handler to draw on canvas\n",
        "def draw(canvas):\n",
        "    canvas.draw_text(message, [50,112], 48, \"Red\")\n",
        "\n",
        "# Create a frame and assign callbacks to event handlers\n",
        "frame = simplegui.create_frame(\"Home\", 300, 200)\n",
        "frame.add_button(\"Click me\", click)\n",
        "frame.set_draw_handler(draw)\n",
        "\n",
        "# Start the frame animation\n",
        "frame.start()\n"
      ],
      "metadata": {
        "id": "h3Ctf_gG2rFG"
      },
      "execution_count": null,
      "outputs": []
    },
    {
      "cell_type": "code",
      "source": [
        "import pygame\n",
        "import sys\n",
        "\n",
        "# Initialize Pygame\n",
        "pygame.init()\n",
        "\n",
        "# Set up the game window\n",
        "width, height = 600, 400\n",
        "win = pygame.display.set_mode((width, height))\n",
        "pygame.display.set_caption(\"Pong Game\")\n",
        "\n",
        "# Set up colors\n",
        "black = (0, 0, 0)\n",
        "white = (255, 255, 255)\n",
        "\n",
        "# Set up paddles\n",
        "paddle_width, paddle_height = 15, 60\n",
        "paddle_speed = 5\n",
        "left_paddle = pygame.Rect(50, height // 2 - paddle_height // 2, paddle_width, paddle_height)\n",
        "right_paddle = pygame.Rect(width - 50 - paddle_width, height // 2 - paddle_height // 2, paddle_width, paddle_height)\n",
        "\n",
        "# Set up ball\n",
        "ball_size = 15\n",
        "ball_speed = 5\n",
        "ball = pygame.Rect(width // 2 - ball_size // 2, height // 2 - ball_size // 2, ball_size, ball_size)\n",
        "ball_direction = [1, 1]  # [x, y]\n",
        "\n",
        "# Set up clock\n",
        "clock = pygame.time.Clock()\n",
        "\n",
        "# Game loop\n",
        "while True:\n",
        "    for event in pygame.event.get():\n",
        "        if event.type == pygame.QUIT:\n",
        "            pygame.quit()\n",
        "            sys.exit()\n",
        "\n",
        "    keys = pygame.key.get_pressed()\n",
        "    if keys[pygame.K_w] and left_paddle.top > 0:\n",
        "        left_paddle.y -= paddle_speed\n",
        "    if keys[pygame.K_s] and left_paddle.bottom < height:\n",
        "        left_paddle.y += paddle_speed\n",
        "\n",
        "    if keys[pygame.K_UP] and right_paddle.top > 0:\n",
        "        right_paddle.y -= paddle_speed\n",
        "    if keys[pygame.K_DOWN] and right_paddle.bottom < height:\n",
        "        right_paddle.y += paddle_speed\n",
        "\n",
        "    # Move the ball\n",
        "    ball.x += ball_speed * ball_direction[0]\n",
        "    ball.y += ball_speed * ball_direction[1]\n",
        "\n",
        "    # Ball collisions with walls\n",
        "    if ball.top <= 0 or ball.bottom >= height:\n",
        "        ball_direction[1] *= -1\n",
        "    if ball.left <= 0 or ball.right >= width:\n",
        "        ball_direction[0] *= -1\n",
        "\n",
        "    # Ball collisions with paddles\n",
        "    if ball.colliderect(left_paddle) or ball.colliderect(right_paddle):\n",
        "        ball_direction[0] *= -1\n",
        "\n",
        "    # Draw everything\n",
        "    win.fill(black)\n",
        "    pygame.draw.rect(win, white, left_paddle)\n",
        "    pygame.draw.rect(win, white, right_paddle)\n",
        "    pygame.draw.ellipse(win, white, ball)\n",
        "\n",
        "    # Update the display\n",
        "    pygame.display.flip()\n",
        "\n",
        "    # Cap the frame rate\n",
        "    clock.tick(20)\n",
        "    #output.clear(wait=True)\n",
        "\n",
        "    # image = pygame.surfarray.array3d(win)\n",
        "    # image = image.transpose([1, 0, 2])\n",
        "    # cv2_imshow(image)\n"
      ],
      "metadata": {
        "id": "vsDce8dJ2yCL"
      },
      "execution_count": null,
      "outputs": []
    },
    {
      "cell_type": "code",
      "source": [],
      "metadata": {
        "id": "y5sdne9a3ElL"
      },
      "execution_count": null,
      "outputs": []
    }
  ]
}