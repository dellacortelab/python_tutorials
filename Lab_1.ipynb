{
  "nbformat": 4,
  "nbformat_minor": 0,
  "metadata": {
    "colab": {
      "provenance": [],
      "authorship_tag": "ABX9TyP2Kdz8EPdT7gaLuSol2LW0",
      "include_colab_link": true
    },
    "kernelspec": {
      "name": "python3",
      "display_name": "Python 3"
    },
    "language_info": {
      "name": "python"
    }
  },
  "cells": [
    {
      "cell_type": "markdown",
      "metadata": {
        "id": "view-in-github",
        "colab_type": "text"
      },
      "source": [
        "<a href=\"https://colab.research.google.com/github/dellacortelab/python_tutorials/blob/main/Lab_1.ipynb\" target=\"_parent\"><img src=\"https://colab.research.google.com/assets/colab-badge.svg\" alt=\"Open In Colab\"/></a>"
      ]
    },
    {
      "cell_type": "code",
      "source": [
        "# prompt: I want to embed a youtube video\n",
        "\n",
        "from IPython.display import HTML\n",
        "\n",
        "HTML(\"\"\"\n",
        "<iframe width=\"560\" height=\"315\" src=\"https://www.youtube.com/embed/d1NK83vve6c\" frameborder=\"0\" allow=\"accelerometer; autoplay; clipboard-write; encrypted-media; gyroscope; picture-in-picture\" allowfullscreen></iframe>\n",
        "\"\"\")\n"
      ],
      "metadata": {
        "colab": {
          "base_uri": "https://localhost:8080/",
          "height": 336
        },
        "id": "TWkhL2PhkwQR",
        "outputId": "547552c7-06bd-482b-bb16-45a01f3586ed"
      },
      "execution_count": null,
      "outputs": [
        {
          "output_type": "execute_result",
          "data": {
            "text/plain": [
              "<IPython.core.display.HTML object>"
            ],
            "text/html": [
              "\n",
              "<iframe width=\"560\" height=\"315\" src=\"https://www.youtube.com/embed/d1NK83vve6c\" frameborder=\"0\" allow=\"accelerometer; autoplay; clipboard-write; encrypted-media; gyroscope; picture-in-picture\" allowfullscreen></iframe>\n"
            ]
          },
          "metadata": {},
          "execution_count": 3
        }
      ]
    },
    {
      "cell_type": "code",
      "source": [
        "!pip install pygame\n"
      ],
      "metadata": {
        "id": "AwwbqpBXlA_q",
        "outputId": "087bd38b-18ab-43a1-bc67-71d124db52ad",
        "colab": {
          "base_uri": "https://localhost:8080/"
        }
      },
      "execution_count": 8,
      "outputs": [
        {
          "output_type": "stream",
          "name": "stdout",
          "text": [
            "Requirement already satisfied: pygame in /usr/local/lib/python3.10/dist-packages (2.5.2)\n"
          ]
        }
      ]
    },
    {
      "cell_type": "code",
      "source": [
        "import os\n",
        "os.environ[\"SDL_VIDEODRIVER\"] = \"dummy\"\n",
        "import pygame\n",
        "from google.colab.patches import cv2_imshow\n",
        "from google.colab import output"
      ],
      "metadata": {
        "id": "zZITRZn7lBLG",
        "colab": {
          "base_uri": "https://localhost:8080/"
        },
        "outputId": "4d205bb5-ef86-422a-bc40-78668caf171f"
      },
      "execution_count": 1,
      "outputs": [
        {
          "output_type": "stream",
          "name": "stdout",
          "text": [
            "pygame 2.5.2 (SDL 2.28.2, Python 3.10.12)\n",
            "Hello from the pygame community. https://www.pygame.org/contribute.html\n"
          ]
        }
      ]
    },
    {
      "cell_type": "code",
      "source": [
        "pip install SimpleGUICS2Pygame"
      ],
      "metadata": {
        "id": "EP3UGCxflBWo",
        "colab": {
          "base_uri": "https://localhost:8080/"
        },
        "outputId": "6d1997dc-a61c-4ec5-b3ee-23483c3a9a33"
      },
      "execution_count": 10,
      "outputs": [
        {
          "output_type": "stream",
          "name": "stdout",
          "text": [
            "Requirement already satisfied: SimpleGUICS2Pygame in /usr/local/lib/python3.10/dist-packages (2.1.0)\n",
            "Requirement already satisfied: pygame in /usr/local/lib/python3.10/dist-packages (from SimpleGUICS2Pygame) (2.5.2)\n",
            "Requirement already satisfied: audioread in /usr/local/lib/python3.10/dist-packages (from SimpleGUICS2Pygame) (3.0.1)\n",
            "Requirement already satisfied: matplotlib in /usr/local/lib/python3.10/dist-packages (from SimpleGUICS2Pygame) (3.7.1)\n",
            "Requirement already satisfied: contourpy>=1.0.1 in /usr/local/lib/python3.10/dist-packages (from matplotlib->SimpleGUICS2Pygame) (1.2.0)\n",
            "Requirement already satisfied: cycler>=0.10 in /usr/local/lib/python3.10/dist-packages (from matplotlib->SimpleGUICS2Pygame) (0.12.1)\n",
            "Requirement already satisfied: fonttools>=4.22.0 in /usr/local/lib/python3.10/dist-packages (from matplotlib->SimpleGUICS2Pygame) (4.47.2)\n",
            "Requirement already satisfied: kiwisolver>=1.0.1 in /usr/local/lib/python3.10/dist-packages (from matplotlib->SimpleGUICS2Pygame) (1.4.5)\n",
            "Requirement already satisfied: numpy>=1.20 in /usr/local/lib/python3.10/dist-packages (from matplotlib->SimpleGUICS2Pygame) (1.23.5)\n",
            "Requirement already satisfied: packaging>=20.0 in /usr/local/lib/python3.10/dist-packages (from matplotlib->SimpleGUICS2Pygame) (23.2)\n",
            "Requirement already satisfied: pillow>=6.2.0 in /usr/local/lib/python3.10/dist-packages (from matplotlib->SimpleGUICS2Pygame) (9.4.0)\n",
            "Requirement already satisfied: pyparsing>=2.3.1 in /usr/local/lib/python3.10/dist-packages (from matplotlib->SimpleGUICS2Pygame) (3.1.1)\n",
            "Requirement already satisfied: python-dateutil>=2.7 in /usr/local/lib/python3.10/dist-packages (from matplotlib->SimpleGUICS2Pygame) (2.8.2)\n",
            "Requirement already satisfied: six>=1.5 in /usr/local/lib/python3.10/dist-packages (from python-dateutil>=2.7->matplotlib->SimpleGUICS2Pygame) (1.16.0)\n"
          ]
        }
      ]
    },
    {
      "cell_type": "code",
      "source": [
        "try:\n",
        "    import simplegui\n",
        "except ImportError:\n",
        "    import SimpleGUICS2Pygame.simpleguics2pygame as simplegui\n",
        "\n",
        "# CodeSkulptor runs Python programs in your browser.\n",
        "# Click the upper left button to run this simple demo.\n",
        "\n",
        "# CodeSkulptor is tested to run in recent versions of\n",
        "# Chrome, Firefox, Safari, and Edge.\n",
        "\n",
        "\n",
        "message = \"Welcome!\"\n",
        "\n",
        "# Handler for mouse click\n",
        "def click():\n",
        "    global message\n",
        "    message = \"Good job!\"\n",
        "\n",
        "# Handler to draw on canvas\n",
        "def draw(canvas):\n",
        "    canvas.draw_text(message, [50,112], 48, \"Red\")\n",
        "\n",
        "# Create a frame and assign callbacks to event handlers\n",
        "frame = simplegui.create_frame(\"Home\", 300, 200)\n",
        "frame.add_button(\"Click me\", click)\n",
        "frame.set_draw_handler(draw)\n",
        "\n",
        "# Start the frame animation\n",
        "frame.start()\n"
      ],
      "metadata": {
        "colab": {
          "base_uri": "https://localhost:8080/",
          "height": 339
        },
        "id": "h3Ctf_gG2rFG",
        "outputId": "3660e0ce-9b05-404f-ebca-f181ed13b258"
      },
      "execution_count": 2,
      "outputs": [
        {
          "output_type": "error",
          "ename": "KeyboardInterrupt",
          "evalue": "",
          "traceback": [
            "\u001b[0;31m---------------------------------------------------------------------------\u001b[0m",
            "\u001b[0;31mKeyboardInterrupt\u001b[0m                         Traceback (most recent call last)",
            "\u001b[0;32m<ipython-input-2-32164f8fbdc8>\u001b[0m in \u001b[0;36m<cell line: 30>\u001b[0;34m()\u001b[0m\n\u001b[1;32m     28\u001b[0m \u001b[0;34m\u001b[0m\u001b[0m\n\u001b[1;32m     29\u001b[0m \u001b[0;31m# Start the frame animation\u001b[0m\u001b[0;34m\u001b[0m\u001b[0;34m\u001b[0m\u001b[0m\n\u001b[0;32m---> 30\u001b[0;31m \u001b[0mframe\u001b[0m\u001b[0;34m.\u001b[0m\u001b[0mstart\u001b[0m\u001b[0;34m(\u001b[0m\u001b[0;34m)\u001b[0m\u001b[0;34m\u001b[0m\u001b[0;34m\u001b[0m\u001b[0m\n\u001b[0m",
            "\u001b[0;32m/usr/local/lib/python3.10/dist-packages/SimpleGUICS2Pygame/simpleguics2pygame/frame.py\u001b[0m in \u001b[0;36mstart\u001b[0;34m(self)\u001b[0m\n\u001b[1;32m   1066\u001b[0m             \u001b[0;31m# Wait (if necessary) next cycle\u001b[0m\u001b[0;34m\u001b[0m\u001b[0;34m\u001b[0m\u001b[0m\n\u001b[1;32m   1067\u001b[0m             \u001b[0mself\u001b[0m\u001b[0;34m.\u001b[0m\u001b[0m_fps_average\u001b[0m \u001b[0;34m=\u001b[0m \u001b[0mint\u001b[0m\u001b[0;34m(\u001b[0m\u001b[0mround\u001b[0m\u001b[0;34m(\u001b[0m\u001b[0mclock\u001b[0m\u001b[0;34m.\u001b[0m\u001b[0mget_fps\u001b[0m\u001b[0;34m(\u001b[0m\u001b[0;34m)\u001b[0m\u001b[0;34m)\u001b[0m\u001b[0;34m)\u001b[0m\u001b[0;34m\u001b[0m\u001b[0;34m\u001b[0m\u001b[0m\n\u001b[0;32m-> 1068\u001b[0;31m             \u001b[0mclock\u001b[0m\u001b[0;34m.\u001b[0m\u001b[0mtick\u001b[0m\u001b[0;34m(\u001b[0m\u001b[0mFrame\u001b[0m\u001b[0;34m.\u001b[0m\u001b[0m_fps\u001b[0m\u001b[0;34m)\u001b[0m\u001b[0;34m\u001b[0m\u001b[0;34m\u001b[0m\u001b[0m\n\u001b[0m\u001b[1;32m   1069\u001b[0m             \u001b[0;31m# clock.tick_busy_loop(Frame._fps)\u001b[0m\u001b[0;34m\u001b[0m\u001b[0;34m\u001b[0m\u001b[0m\n\u001b[1;32m   1070\u001b[0m \u001b[0;34m\u001b[0m\u001b[0m\n",
            "\u001b[0;31mKeyboardInterrupt\u001b[0m: "
          ]
        }
      ]
    },
    {
      "cell_type": "code",
      "source": [
        "import pygame\n",
        "import sys\n",
        "\n",
        "# Initialize Pygame\n",
        "pygame.init()\n",
        "\n",
        "# Set up the game window\n",
        "width, height = 600, 400\n",
        "win = pygame.display.set_mode((width, height))\n",
        "pygame.display.set_caption(\"Pong Game\")\n",
        "\n",
        "# Set up colors\n",
        "black = (0, 0, 0)\n",
        "white = (255, 255, 255)\n",
        "\n",
        "# Set up paddles\n",
        "paddle_width, paddle_height = 15, 60\n",
        "paddle_speed = 5\n",
        "left_paddle = pygame.Rect(50, height // 2 - paddle_height // 2, paddle_width, paddle_height)\n",
        "right_paddle = pygame.Rect(width - 50 - paddle_width, height // 2 - paddle_height // 2, paddle_width, paddle_height)\n",
        "\n",
        "# Set up ball\n",
        "ball_size = 15\n",
        "ball_speed = 5\n",
        "ball = pygame.Rect(width // 2 - ball_size // 2, height // 2 - ball_size // 2, ball_size, ball_size)\n",
        "ball_direction = [1, 1]  # [x, y]\n",
        "\n",
        "# Set up clock\n",
        "clock = pygame.time.Clock()\n",
        "\n",
        "# Game loop\n",
        "while True:\n",
        "    for event in pygame.event.get():\n",
        "        if event.type == pygame.QUIT:\n",
        "            pygame.quit()\n",
        "            sys.exit()\n",
        "\n",
        "    keys = pygame.key.get_pressed()\n",
        "    if keys[pygame.K_w] and left_paddle.top > 0:\n",
        "        left_paddle.y -= paddle_speed\n",
        "    if keys[pygame.K_s] and left_paddle.bottom < height:\n",
        "        left_paddle.y += paddle_speed\n",
        "\n",
        "    if keys[pygame.K_UP] and right_paddle.top > 0:\n",
        "        right_paddle.y -= paddle_speed\n",
        "    if keys[pygame.K_DOWN] and right_paddle.bottom < height:\n",
        "        right_paddle.y += paddle_speed\n",
        "\n",
        "    # Move the ball\n",
        "    ball.x += ball_speed * ball_direction[0]\n",
        "    ball.y += ball_speed * ball_direction[1]\n",
        "\n",
        "    # Ball collisions with walls\n",
        "    if ball.top <= 0 or ball.bottom >= height:\n",
        "        ball_direction[1] *= -1\n",
        "    if ball.left <= 0 or ball.right >= width:\n",
        "        ball_direction[0] *= -1\n",
        "\n",
        "    # Ball collisions with paddles\n",
        "    if ball.colliderect(left_paddle) or ball.colliderect(right_paddle):\n",
        "        ball_direction[0] *= -1\n",
        "\n",
        "    # Draw everything\n",
        "    win.fill(black)\n",
        "    pygame.draw.rect(win, white, left_paddle)\n",
        "    pygame.draw.rect(win, white, right_paddle)\n",
        "    pygame.draw.ellipse(win, white, ball)\n",
        "\n",
        "    # Update the display\n",
        "    pygame.display.flip()\n",
        "\n",
        "    # Cap the frame rate\n",
        "    clock.tick(20)\n",
        "    output.clear(wait=True)\n",
        "\n",
        "    image = pygame.surfarray.array3d(win)\n",
        "    image = image.transpose([1, 0, 2])\n",
        "    cv2_imshow(image)\n"
      ],
      "metadata": {
        "colab": {
          "base_uri": "https://localhost:8080/",
          "height": 650
        },
        "id": "vsDce8dJ2yCL",
        "outputId": "76b833bf-604b-459e-dc7d-63d7147f8ac2"
      },
      "execution_count": 12,
      "outputs": [
        {
          "output_type": "display_data",
          "data": {
            "text/plain": [
              "<PIL.Image.Image image mode=RGB size=600x400>"
            ],
            "image/png": "[encoded data removed]"
          },
          "metadata": {}
        },
        {
          "output_type": "error",
          "ename": "KeyboardInterrupt",
          "evalue": "",
          "traceback": [
            "\u001b[0;31m---------------------------------------------------------------------------\u001b[0m",
            "\u001b[0;31mKeyboardInterrupt\u001b[0m                         Traceback (most recent call last)",
            "\u001b[0;32m<ipython-input-12-4c9c29b1234c>\u001b[0m in \u001b[0;36m<cell line: 32>\u001b[0;34m()\u001b[0m\n\u001b[1;32m     71\u001b[0m \u001b[0;34m\u001b[0m\u001b[0m\n\u001b[1;32m     72\u001b[0m     \u001b[0;31m# Cap the frame rate\u001b[0m\u001b[0;34m\u001b[0m\u001b[0;34m\u001b[0m\u001b[0m\n\u001b[0;32m---> 73\u001b[0;31m     \u001b[0mclock\u001b[0m\u001b[0;34m.\u001b[0m\u001b[0mtick\u001b[0m\u001b[0;34m(\u001b[0m\u001b[0;36m20\u001b[0m\u001b[0;34m)\u001b[0m\u001b[0;34m\u001b[0m\u001b[0;34m\u001b[0m\u001b[0m\n\u001b[0m\u001b[1;32m     74\u001b[0m     \u001b[0moutput\u001b[0m\u001b[0;34m.\u001b[0m\u001b[0mclear\u001b[0m\u001b[0;34m(\u001b[0m\u001b[0mwait\u001b[0m\u001b[0;34m=\u001b[0m\u001b[0;32mTrue\u001b[0m\u001b[0;34m)\u001b[0m\u001b[0;34m\u001b[0m\u001b[0;34m\u001b[0m\u001b[0m\n\u001b[1;32m     75\u001b[0m \u001b[0;34m\u001b[0m\u001b[0m\n",
            "\u001b[0;31mKeyboardInterrupt\u001b[0m: "
          ]
        }
      ]
    },
    {
      "cell_type": "code",
      "source": [],
      "metadata": {
        "id": "y5sdne9a3ElL"
      },
      "execution_count": null,
      "outputs": []
    }
  ]
}